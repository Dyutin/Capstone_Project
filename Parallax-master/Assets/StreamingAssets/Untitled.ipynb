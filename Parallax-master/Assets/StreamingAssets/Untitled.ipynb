{
 "cells": [
  {
   "cell_type": "code",
   "execution_count": 1,
   "id": "7a11ac53",
   "metadata": {},
   "outputs": [],
   "source": [
    "import tflite2onnx\n"
   ]
  },
  {
   "cell_type": "code",
   "execution_count": 16,
   "id": "19f50f84",
   "metadata": {},
   "outputs": [],
   "source": [
    "tflite_path = 'tflite'\n",
    "onnx_path = '/converted/onnx/model'"
   ]
  },
  {
   "cell_type": "code",
   "execution_count": 17,
   "id": "80df8080",
   "metadata": {},
   "outputs": [
    {
     "ename": "PermissionError",
     "evalue": "[Errno 13] Permission denied: 'tflite'",
     "output_type": "error",
     "traceback": [
      "\u001b[1;31m---------------------------------------------------------------------------\u001b[0m",
      "\u001b[1;31mPermissionError\u001b[0m                           Traceback (most recent call last)",
      "Cell \u001b[1;32mIn[17], line 1\u001b[0m\n\u001b[1;32m----> 1\u001b[0m tflite2onnx\u001b[38;5;241m.\u001b[39mconvert(tflite_path, onnx_path)\n",
      "File \u001b[1;32m~\\AppData\\Roaming\\Python\\Python311\\site-packages\\tflite2onnx\\convert.py:39\u001b[0m, in \u001b[0;36mconvert\u001b[1;34m(tflite_path, onnx_path, explicit_layouts)\u001b[0m\n\u001b[0;32m     37\u001b[0m logger\u001b[38;5;241m.\u001b[39mdebug(\u001b[38;5;124m\"\u001b[39m\u001b[38;5;124mtflite: \u001b[39m\u001b[38;5;132;01m%s\u001b[39;00m\u001b[38;5;124m\"\u001b[39m, tflite_path)\n\u001b[0;32m     38\u001b[0m logger\u001b[38;5;241m.\u001b[39mdebug(\u001b[38;5;124m\"\u001b[39m\u001b[38;5;124monnx: \u001b[39m\u001b[38;5;132;01m%s\u001b[39;00m\u001b[38;5;124m\"\u001b[39m, onnx_path)\n\u001b[1;32m---> 39\u001b[0m \u001b[38;5;28;01mwith\u001b[39;00m \u001b[38;5;28mopen\u001b[39m(tflite_path, \u001b[38;5;124m'\u001b[39m\u001b[38;5;124mrb\u001b[39m\u001b[38;5;124m'\u001b[39m) \u001b[38;5;28;01mas\u001b[39;00m f:\n\u001b[0;32m     40\u001b[0m     buf \u001b[38;5;241m=\u001b[39m f\u001b[38;5;241m.\u001b[39mread()\n\u001b[0;32m     41\u001b[0m     im \u001b[38;5;241m=\u001b[39m tflite\u001b[38;5;241m.\u001b[39mModel\u001b[38;5;241m.\u001b[39mGetRootAsModel(buf, \u001b[38;5;241m0\u001b[39m)\n",
      "\u001b[1;31mPermissionError\u001b[0m: [Errno 13] Permission denied: 'tflite'"
     ]
    }
   ],
   "source": [
    "tflite2onnx.convert(tflite_path, onnx_path)"
   ]
  },
  {
   "cell_type": "code",
   "execution_count": null,
   "id": "aebb8629",
   "metadata": {},
   "outputs": [],
   "source": []
  }
 ],
 "metadata": {
  "kernelspec": {
   "display_name": "Python 3 (ipykernel)",
   "language": "python",
   "name": "python3"
  },
  "language_info": {
   "codemirror_mode": {
    "name": "ipython",
    "version": 3
   },
   "file_extension": ".py",
   "mimetype": "text/x-python",
   "name": "python",
   "nbconvert_exporter": "python",
   "pygments_lexer": "ipython3",
   "version": "3.11.5"
  }
 },
 "nbformat": 4,
 "nbformat_minor": 5
}
